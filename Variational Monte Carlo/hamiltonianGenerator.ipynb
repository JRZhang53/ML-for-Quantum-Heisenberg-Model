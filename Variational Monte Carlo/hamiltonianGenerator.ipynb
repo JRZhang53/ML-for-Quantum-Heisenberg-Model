{
 "cells": [
  {
   "cell_type": "code",
   "execution_count": 2,
   "metadata": {},
   "outputs": [],
   "source": [
    "import numpy as np\n",
    "import math\n",
    "import time\n",
    "import matplotlib.pyplot as plt\n",
    "import matplotlib.colors as colors\n",
    "from matplotlib.colors import TwoSlopeNorm\n",
    "from scipy import sparse\n",
    "import seaborn as sns\n",
    "\n",
    "import netket as nk\n",
    "import os\n",
    "os.environ[\"JAX_PLATFORM_NAME\"] = \"cpu\"\n",
    "import json\n",
    "\n",
    "PATH = os.getcwd()"
   ]
  },
  {
   "cell_type": "markdown",
   "metadata": {},
   "source": [
    "### Generate Table of All Possible States Indexed in Lexigraphical Order"
   ]
  },
  {
   "cell_type": "code",
   "execution_count": 3,
   "metadata": {},
   "outputs": [],
   "source": [
    "def generateStateTable(n,n0,N): # assumes ab > n0 > 0 and N = n choose n0\n",
    "    states = []\n",
    "    state = np.concatenate((np.ones(n-n0),-1*np.ones(n0))).astype(int)\n",
    "    for i in range(0,N):\n",
    "        states.append(np.copy(state))\n",
    "        j = 0\n",
    "        flag = True\n",
    "        flip_count = 0\n",
    "        up_count = 0\n",
    "        while (flag): \n",
    "            if (j == n-1):\n",
    "                for m in range(0,n):\n",
    "                    if (state[m] != 1 and state[m+1] == 1):\n",
    "                        flip_count += 1\n",
    "                if (flip_count == 1):\n",
    "                    break\n",
    "            if (state[j] != 1):\n",
    "                j += 1  \n",
    "            elif (state[j+1] != 1):\n",
    "                for m in range(0,j):\n",
    "                    if (state[m] != 1 and state[m+1] == 1):\n",
    "                        flip_count += 1\n",
    "                    if (state[m] == 1):\n",
    "                        up_count += 1\n",
    "                if (flip_count == 1):\n",
    "                    state[j],state[j+1] = state[j+1],state[j]\n",
    "                    for k in range(1,up_count+1):\n",
    "                        state[j-k],state[k-1] = state[k-1],state[j-k]\n",
    "                else:\n",
    "                    state[j],state[j+1] = state[j+1],state[j]\n",
    "                flag = False\n",
    "            else:\n",
    "                j += 1\n",
    "    return states"
   ]
  },
  {
   "cell_type": "markdown",
   "metadata": {},
   "source": [
    "### Generate Adjacency Matrices"
   ]
  },
  {
   "cell_type": "code",
   "execution_count": 4,
   "metadata": {},
   "outputs": [],
   "source": [
    "class Node:\n",
    "    def __init__(self, position, xadj, yadj):\n",
    "        self.position = position\n",
    "        self.xadj = xadj\n",
    "        self.yadj = yadj\n",
    "    \n",
    "    def __str__(self):\n",
    "        return f\"{self.position} {self.xadj} {self.yadj}\""
   ]
  },
  {
   "cell_type": "code",
   "execution_count": 5,
   "metadata": {},
   "outputs": [],
   "source": [
    "def squareAdjacencyList(a,b): # constructs a periodic adjacency graph with width a and height b\n",
    "    nodes = []\n",
    "    \n",
    "    for i in range(0,a):\n",
    "        for j in range(0,b):\n",
    "            xadj = [[(i-1) % a,j],[(i+1) % a,j]]\n",
    "            yadj = [[i,(j-1) % b],[i,(j+1) % b]]\n",
    "            nodes.append(Node([[i,j]],xadj,yadj))\n",
    "\n",
    "    return nodes"
   ]
  },
  {
   "cell_type": "markdown",
   "metadata": {},
   "source": [
    "### First Neighbors Adjacency Matrix"
   ]
  },
  {
   "cell_type": "code",
   "execution_count": 6,
   "metadata": {},
   "outputs": [],
   "source": [
    "def firstneighbors(a,b): \n",
    "    nodes = squareAdjacencyList(a,b)\n",
    "    N = a*b\n",
    "    J = [[0 for col in range(N)] for row in range(N)]\n",
    "\n",
    "    for i in range(0,N-1):\n",
    "        for j in range(i+1,N):\n",
    "            flag = False\n",
    "            for xptr in nodes[i].xadj:\n",
    "                if xptr in nodes[j].position:\n",
    "                    flag = True\n",
    "            for yptr in nodes[i].yadj:\n",
    "                if yptr in nodes[j].position:\n",
    "                    flag = True\n",
    "            if flag:\n",
    "                J[i][j] = 1\n",
    "                J[j][i] = 1\n",
    "        \n",
    "    return np.array(J)"
   ]
  },
  {
   "cell_type": "markdown",
   "metadata": {},
   "source": [
    "### Second Neighbors (Euclidean) Adjacency Matrix"
   ]
  },
  {
   "cell_type": "code",
   "execution_count": 7,
   "metadata": {},
   "outputs": [],
   "source": [
    "def secondneighbors(a,b):\n",
    "    nodes = squareAdjacencyList(a,b)\n",
    "    N = a*b\n",
    "    J = [[0 for col in range(N)] for row in range(N)]\n",
    "\n",
    "    for i in range(0,N-1):\n",
    "        for j in range(i+1,N):\n",
    "            flag = False\n",
    "\n",
    "            for xptr in nodes[i].xadj:\n",
    "                try:\n",
    "                    for k in range(0,N):\n",
    "                        if xptr in nodes[k].position:\n",
    "                            intermediate = k\n",
    "                    for yptr in nodes[intermediate].yadj:\n",
    "                        if yptr in nodes[j].position:\n",
    "                            flag = True\n",
    "                except UnboundLocalError:\n",
    "                    pass\n",
    "\n",
    "            if flag:\n",
    "                J[i][j] = 1\n",
    "                J[j][i] = 1\n",
    "\n",
    "    return np.array(J)"
   ]
  },
  {
   "cell_type": "markdown",
   "metadata": {},
   "source": [
    "### Model Parameters"
   ]
  },
  {
   "cell_type": "code",
   "execution_count": 8,
   "metadata": {},
   "outputs": [],
   "source": [
    "a = 4 # x-range of supercell\n",
    "b = 4 # y-range of supercell\n",
    "N1 = firstneighbors(a,b)\n",
    "N2 = secondneighbors(a,b)\n",
    "n = a*b # number of sites in lattice\n",
    "\n",
    "n0 = n // 2 # number of down spins in the string (taken as floor(n/2))\n",
    "N = int(math.factorial(n)/(math.factorial(n0)*math.factorial(n-n0))) # number of states\n",
    "\n",
    "stateTable = generateStateTable(n,n0,N)"
   ]
  },
  {
   "cell_type": "markdown",
   "metadata": {},
   "source": [
    "### Compute Hamiltonian of the System"
   ]
  },
  {
   "cell_type": "code",
   "execution_count": 9,
   "metadata": {},
   "outputs": [],
   "source": [
    "def computeHamiltonian(J1,J2):\n",
    "    # uses the fact that the Hamiltonian is real and Hermitian => symmetric\n",
    "    row = []\n",
    "    col = []\n",
    "    data = []\n",
    "\n",
    "    for i in range(0,N):\n",
    "        for j in range(i,N):\n",
    "            if (i == j):\n",
    "                for k in range(0,n-1):\n",
    "                    for l in range(k+1,n):\n",
    "                        if (N1[k][l] != 0):\n",
    "                            row.append(i)\n",
    "                            col.append(j)\n",
    "                            data.append(J1*stateTable[i][k]*stateTable[i][l])\n",
    "                        if (N2[k][l] != 0):\n",
    "                            row.append(i)\n",
    "                            col.append(j)\n",
    "                            data.append(J2*stateTable[i][k]*stateTable[i][l])\n",
    "                        \n",
    "            else:\n",
    "                tempState = np.multiply(stateTable[i],stateTable[j])\n",
    "                if (np.count_nonzero(tempState == -1) == 2):\n",
    "                    indices = np.where(tempState == -1)\n",
    "                    e,f = indices[0][0],indices[0][1]\n",
    "                    if (N1[e][f] != 0):\n",
    "                        row.append(i)\n",
    "                        col.append(j)\n",
    "                        data.append(2*J1)\n",
    "                        row.append(j)\n",
    "                        col.append(i)\n",
    "                        data.append(2*J1)\n",
    "                    if (N2[e][f] != 0):\n",
    "                        row.append(i)\n",
    "                        col.append(j)\n",
    "                        data.append(2*J2)\n",
    "                        row.append(j)\n",
    "                        col.append(i)\n",
    "                        data.append(2*J2)\n",
    "    \n",
    "    H = sparse.coo_array((data, (row, col)), shape=(N,N), dtype=np.float32)\n",
    "    return H"
   ]
  },
  {
   "cell_type": "markdown",
   "metadata": {},
   "source": [
    "### Spin Correlation Matrices"
   ]
  },
  {
   "cell_type": "code",
   "execution_count": 10,
   "metadata": {},
   "outputs": [],
   "source": [
    "def zSpin(site1,site2,stateVector):\n",
    "    sum = 0\n",
    "    for state in stateTable:\n",
    "        sum += state[site1]*state[site2]*(stateVector**2)\n",
    "    \n",
    "    return sum\n",
    "\n",
    "def computeXalpha(site1,site2,stateIndex):\n",
    "    state = stateTable[stateIndex]\n",
    "    state[site1] *= -1\n",
    "    state[site2] *= -1\n",
    "    for i, row in enumerate(stateTable):\n",
    "        if row == state:\n",
    "            return i\n",
    "        \n",
    "    return None\n",
    "\n",
    "def xSpin(site1,site2, stateVector):\n",
    "    sum = 0\n",
    "    for i in range(0,len(stateTable)):\n",
    "        j = computeXalpha(site1,site2,i)\n",
    "        sum += stateVector[i]*stateVector[j]\n",
    "    \n",
    "    return sum\n",
    "\n",
    "def ssCorrelationFunction(stateVector):\n",
    "    ssCorrelationFunction = [[0 for _ in range(n)] for _ in range(n)]\n",
    "    for i in range(0,n-1):\n",
    "        for j in range(i+1,n):\n",
    "            temp = zSpin(i,j,stateVector)+2*xSpin(i,j,stateVector)\n",
    "            ssCorrelationFunction[i][j] = temp\n",
    "            ssCorrelationFunction[j][i] = temp\n",
    "    \n",
    "    return np.array(ssCorrelationFunction)"
   ]
  },
  {
   "cell_type": "markdown",
   "metadata": {},
   "source": [
    "### Iterate over Multiple J1/J2"
   ]
  },
  {
   "cell_type": "code",
   "execution_count": 11,
   "metadata": {},
   "outputs": [],
   "source": [
    "def firstSpinCorrelation(states,n):\n",
    "    spin_corr = 0\n",
    "    for i in range(0,len(states)):\n",
    "        sCorr = 0\n",
    "        for k in range(0,n-1):\n",
    "            for l in range(k+1,n):\n",
    "                if (N1[k][l] != 0):\n",
    "                    sCorr += stateTable[i][k]*stateTable[i][l]\n",
    "        spin_corr += (states[i][0]**2)*sCorr\n",
    "\n",
    "    numNeighbors = 0\n",
    "    for i in range(0,len(N1)):\n",
    "        for j in range(0,len(N1[0])):\n",
    "            numNeighbors += N1[i][j]\n",
    "    spin_corr /= (numNeighbors/2)\n",
    "    return spin_corr\n",
    "\n",
    "def process(J1,J2):\n",
    "    H = computeHamiltonian(J1,J2)\n",
    "    # H = sparse.load_npz(PATH + '/data/J1='+str(round(J1,3))+'.J2='+str(round(J2,3))+'hamiltonian.npz')\n",
    "    # print(H.toarray())\n",
    "    \n",
    "    sparse.save_npz(PATH + '/data/J1='+str(round(J1,3))+'.J2='+str(round(J2,3))+'hamiltonian.npz', H, compressed=True)\n",
    "\n",
    "    numEnergies = 1\n",
    "    energies, states = sparse.linalg.eigs(H.asfptype(), k=numEnergies, which='SR')\n",
    "    energies = np.real(energies)\n",
    "    states = np.real(states)\n",
    "\n",
    "    firstSpinCorr = firstSpinCorrelation(states,n)\n",
    "\n",
    "    return energies[0],firstSpinCorr"
   ]
  },
  {
   "cell_type": "code",
   "execution_count": 12,
   "metadata": {},
   "outputs": [
    {
     "name": "stdout",
     "output_type": "stream",
     "text": [
      "[-93.630646, -94.107635, -94.58479, -95.061775, -95.53895, -96.016205, -96.49347]\n",
      "[-0.011367120083885648, -0.011295181930501283, -0.011224199634988387, -0.011154122281367126, -0.011084961075158814, -0.01101665291899794, -0.010949233751597318]\n"
     ]
    }
   ],
   "source": [
    "stepint = 0.01 # interval size\n",
    "\n",
    "J2s = np.arange(1.94, 2, stepint)\n",
    "grdEs = []\n",
    "sCorrs = []\n",
    "\n",
    "for i in range(0,len(J2s)):\n",
    "    grdE,sCorr = process(1,J2s[i])\n",
    "    grdEs.append(grdE)\n",
    "    sCorrs.append(sCorr)\n",
    "\n",
    "print(grdEs)\n",
    "print(sCorrs)"
   ]
  }
 ],
 "metadata": {
  "kernelspec": {
   "display_name": "Python 3",
   "language": "python",
   "name": "python3"
  },
  "language_info": {
   "codemirror_mode": {
    "name": "ipython",
    "version": 3
   },
   "file_extension": ".py",
   "mimetype": "text/x-python",
   "name": "python",
   "nbconvert_exporter": "python",
   "pygments_lexer": "ipython3",
   "version": "3.10.11"
  }
 },
 "nbformat": 4,
 "nbformat_minor": 2
}

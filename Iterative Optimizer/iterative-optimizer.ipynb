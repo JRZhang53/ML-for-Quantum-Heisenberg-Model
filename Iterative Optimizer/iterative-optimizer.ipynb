{
 "cells": [
  {
   "cell_type": "code",
   "execution_count": 89,
   "metadata": {},
   "outputs": [],
   "source": [
    "import numpy as np\n",
    "\n",
    "import random\n",
    "import math\n",
    "import time\n",
    "import tqdm\n",
    "import matplotlib.pyplot as plt\n",
    "from scipy import sparse\n",
    "import seaborn as sns\n",
    "\n",
    "import os\n",
    "os.environ[\"JAX_PLATFORM_NAME\"] = \"cpu\"\n",
    "\n",
    "PATH = os.getcwd()"
   ]
  },
  {
   "cell_type": "markdown",
   "metadata": {},
   "source": [
    "### Generate Adjacency Matrices"
   ]
  },
  {
   "cell_type": "code",
   "execution_count": 90,
   "metadata": {},
   "outputs": [],
   "source": [
    "class Node:\n",
    "    def __init__(self, position, xadj, yadj):\n",
    "        self.position = position\n",
    "        self.xadj = xadj\n",
    "        self.yadj = yadj\n",
    "    \n",
    "    def __str__(self):\n",
    "        return f\"{self.position} {self.xadj} {self.yadj}\"\n",
    "    \n",
    "def squareAdjacencyList(a,b): # constructs a periodic adjacency graph with width a and height b\n",
    "    nodes = []\n",
    "    for j in range(0,b):\n",
    "        for i in range(0,a):\n",
    "            xadj = [[(i-1) % a,j],[(i+1) % a,j]]\n",
    "            yadj = [[i,(j-1) % b],[i,(j+1) % b]]\n",
    "            nodes.append(Node([[i,j]],xadj,yadj))\n",
    "\n",
    "    return nodes\n",
    "\n",
    "def firstneighbors(a,b): \n",
    "    nodes = squareAdjacencyList(a,b)\n",
    "    N = a*b\n",
    "    J = [[0 for col in range(N)] for row in range(N)]\n",
    "\n",
    "    for i in range(0,N-1):\n",
    "        for j in range(i+1,N):\n",
    "            flag = False\n",
    "            for xptr in nodes[i].xadj:\n",
    "                if xptr in nodes[j].position:\n",
    "                    flag = True\n",
    "            for yptr in nodes[i].yadj:\n",
    "                if yptr in nodes[j].position:\n",
    "                    flag = True\n",
    "            if flag:\n",
    "                J[i][j] = 1\n",
    "                J[j][i] = 1\n",
    "        \n",
    "    return np.array(J)\n",
    "\n",
    "def secondneighbors(a,b):\n",
    "    nodes = squareAdjacencyList(a,b)\n",
    "    N = a*b\n",
    "    J = [[0 for col in range(N)] for row in range(N)]\n",
    "\n",
    "    for i in range(0,N-1):\n",
    "        for j in range(i+1,N):\n",
    "            flag = False\n",
    "\n",
    "            for xptr in nodes[i].xadj:\n",
    "                try:\n",
    "                    for k in range(0,N):\n",
    "                        if xptr in nodes[k].position:\n",
    "                            intermediate = k\n",
    "                    for yptr in nodes[intermediate].yadj:\n",
    "                        if yptr in nodes[j].position:\n",
    "                            flag = True\n",
    "                except UnboundLocalError:\n",
    "                    pass\n",
    "\n",
    "            if flag:\n",
    "                J[i][j] = 1\n",
    "                J[j][i] = 1\n",
    "\n",
    "    return np.array(J)"
   ]
  },
  {
   "cell_type": "markdown",
   "metadata": {},
   "source": [
    "### Define State Class"
   ]
  },
  {
   "cell_type": "code",
   "execution_count": 91,
   "metadata": {},
   "outputs": [],
   "source": [
    "class State:\n",
    "    def __init__(self, a, b, spinors):\n",
    "        self.a = a\n",
    "        self.b = b\n",
    "        self.spinors = spinors # n-dimensional array of ordered pairs representing the spin state of each site\n",
    "        self.adjacencies(a,b)\n",
    "        self.numSites(a,b)   \n",
    "    def numSites(self,a,b):\n",
    "        self.n = a*b    \n",
    "    def adjacencies(self,a,b):\n",
    "        self.N1 = firstneighbors(a,b)\n",
    "        self.N2 = secondneighbors(a,b)\n",
    "        \n",
    "    def energy(self,J1,J2):\n",
    "        n = self.n\n",
    "        spinors = self.spinors\n",
    "        N1 = self.N1\n",
    "        N2 = self.N2\n",
    "        \n",
    "        sum = 0.0\n",
    "        for i in range(n-1):\n",
    "            for j in range(i+1,n):\n",
    "                if N1[i][j] != 0 or N2[i][j] != 0:\n",
    "                    spin1 = spinors[i]/np.linalg.norm(spinors[i])\n",
    "                    spin2 = spinors[j]/np.linalg.norm(spinors[j])\n",
    "                    zCoupling = spin1[0]*spin2[0]+spin1[1]*spin2[1]-spin1[0]*spin2[1]-spin1[1]*spin2[0]\n",
    "                    xyCoupling = 2*(spin1[0]*spin2[1]+spin1[1]*spin2[0])\n",
    "                if N1[i][j] != 0:\n",
    "                    sum += J1*(zCoupling+xyCoupling)\n",
    "                if N2[i][j] != 0:\n",
    "                    sum += J2*(zCoupling+xyCoupling)\n",
    "\n",
    "        return sum"
   ]
  },
  {
   "cell_type": "markdown",
   "metadata": {},
   "source": [
    "### Generate State Table (only for testing)"
   ]
  },
  {
   "cell_type": "code",
   "execution_count": 92,
   "metadata": {},
   "outputs": [],
   "source": [
    "def generateStateTable(n,n0,N): # assumes ab > n0 > 0 and N = n choose n0\n",
    "    states = []\n",
    "    state = np.concatenate((np.ones(n-n0),-1*np.ones(n0))).astype(int)\n",
    "    for i in range(0,N):\n",
    "        states.append(np.copy(state))\n",
    "        j = 0\n",
    "        flag = True\n",
    "        flip_count = 0\n",
    "        up_count = 0\n",
    "        while (flag): \n",
    "            if (j == n-1):\n",
    "                for m in range(0,n):\n",
    "                    if (state[m] != 1 and state[m+1] == 1):\n",
    "                        flip_count += 1\n",
    "                if (flip_count == 1):\n",
    "                    break\n",
    "            if (state[j] != 1):\n",
    "                j += 1  \n",
    "            elif (state[j+1] != 1):\n",
    "                for m in range(0,j):\n",
    "                    if (state[m] != 1 and state[m+1] == 1):\n",
    "                        flip_count += 1\n",
    "                    if (state[m] == 1):\n",
    "                        up_count += 1\n",
    "                if (flip_count == 1):\n",
    "                    state[j],state[j+1] = state[j+1],state[j]\n",
    "                    for k in range(1,up_count+1):\n",
    "                        state[j-k],state[k-1] = state[k-1],state[j-k]\n",
    "                else:\n",
    "                    state[j],state[j+1] = state[j+1],state[j]\n",
    "                flag = False\n",
    "            else:\n",
    "                j += 1\n",
    "    return np.array(states)"
   ]
  },
  {
   "cell_type": "markdown",
   "metadata": {},
   "source": [
    "### Test Energy Calculation"
   ]
  },
  {
   "cell_type": "code",
   "execution_count": 96,
   "metadata": {},
   "outputs": [
    {
     "name": "stdout",
     "output_type": "stream",
     "text": [
      "-2.1645497723405382\n",
      "-2.1645497723405382\n",
      "34.562449598792654\n"
     ]
    }
   ],
   "source": [
    "H = sparse.load_npz(PATH +'/4x4hamiltonian.npz')\n",
    "H = H.toarray()\n",
    "\n",
    "N = len(H)\n",
    "randState = np.random.uniform(-1,1,N)\n",
    "spikes = np.random.choice(range(0,N), size=20, replace=False)\n",
    "for spike in spikes:\n",
    "    randState[spike] *= np.random.normal(1000,100,1)[0]\n",
    "randState /= np.linalg.norm(randState)\n",
    "\n",
    "exactEnergy = randState @ H @ randState\n",
    "print(exactEnergy)\n",
    "\n",
    "spinors = np.array([[0,0]]*16,dtype=np.float64)\n",
    "stateTable = generateStateTable(16,8,12870)\n",
    "for basis in range(len(stateTable)):\n",
    "    for i in range(16):\n",
    "        if stateTable[basis][i] == 1:\n",
    "            spinors[i][0] += randState[basis]\n",
    "        else:\n",
    "            spinors[i][1] += randState[basis]\n",
    "\n",
    "stateObj = State(4,4,spinors)\n",
    "\n",
    "wtfEnergy = stateObj.energy(1,0)\n",
    "print(wtfEnergy)\n"
   ]
  }
 ],
 "metadata": {
  "kernelspec": {
   "display_name": "Python 3",
   "language": "python",
   "name": "python3"
  },
  "language_info": {
   "codemirror_mode": {
    "name": "ipython",
    "version": 3
   },
   "file_extension": ".py",
   "mimetype": "text/x-python",
   "name": "python",
   "nbconvert_exporter": "python",
   "pygments_lexer": "ipython3",
   "version": "3.10.11"
  }
 },
 "nbformat": 4,
 "nbformat_minor": 2
}

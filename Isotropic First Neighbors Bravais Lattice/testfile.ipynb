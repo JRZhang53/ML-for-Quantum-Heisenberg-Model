{
 "cells": [
  {
   "cell_type": "code",
   "execution_count": 248,
   "metadata": {},
   "outputs": [],
   "source": [
    "import numpy as np"
   ]
  },
  {
   "cell_type": "code",
   "execution_count": 249,
   "metadata": {},
   "outputs": [],
   "source": [
    "class Node:\n",
    "    def __init__(self, position, adjacency):\n",
    "        self.position = position\n",
    "        self.adjacency = adjacency\n",
    "    \n",
    "    def __str__(self):\n",
    "        return f\"{self.position} {self.adjacency}\""
   ]
  },
  {
   "cell_type": "code",
   "execution_count": 250,
   "metadata": {},
   "outputs": [],
   "source": [
    "def squareAdjacencyList(x1,x2,y1,y2): # constructs a non-periodic adjacency graph on a square lattice from (x1,y1) to (x2,y2)\n",
    "    nodes = []\n",
    "    \n",
    "    for i in range(x1,x2+1):\n",
    "        for j in range(y1,y2+1):\n",
    "            adj = []\n",
    "            if (i+1 <= x2):\n",
    "                adj.append([i+1,j])\n",
    "            if (i-1 >= x1):\n",
    "                adj.append([i-1,j])\n",
    "            if (j+1 <= y2):\n",
    "                adj.append([i,j+1])\n",
    "            if (j-1 >= y1):\n",
    "                adj.append([i,j-1])\n",
    "            nodes.append(Node([[i,j]],adj))\n",
    "\n",
    "    return nodes"
   ]
  },
  {
   "cell_type": "code",
   "execution_count": 251,
   "metadata": {},
   "outputs": [],
   "source": [
    "def solveLinearSystem(v1,v2,b): # returns x,y satisfying alpha*v1+beta*v2=b assuming v1 and v2 are linear independent\n",
    "    A = np.transpose(np.array([v1,v2]))\n",
    "    return np.dot(np.linalg.inv(A),b)\n",
    "\n",
    "def coeffMatrix(v1,v2): # Z^2/([x,y]-[a,b],[x,y]-[c,d])\n",
    "    a,b = v1\n",
    "    c,d = v2\n",
    "\n",
    "    # bounding box\n",
    "    x1 = min(a,c,0) \n",
    "    x2 = max(a,c,0)\n",
    "    y1 = min(b,d,0)\n",
    "    y2 = max(b,d,0)\n",
    "    nodes = squareAdjacencyList(x1,x2,y1,y2)\n",
    "\n",
    "    # merge degenerate nodes\n",
    "    for i in range(0,len(nodes)-1):\n",
    "        for j in range(i+1,len(nodes)):\n",
    "            a,b = nodes[i].position[0]\n",
    "            c,d = nodes[j].position[0]\n",
    "            sol = solveLinearSystem(v1,v2,[a-c,b-d])\n",
    "            if (sol[0].is_integer() and sol[1].is_integer() and (sol[0] != 0 or sol[1] != 0)):\n",
    "                for p in nodes[i].adjacency: # merge adjacencies\n",
    "                    if p not in nodes[j].adjacency:\n",
    "                        nodes[j].adjacency.append(p)\n",
    "                for q in nodes[i].position: # merge positions\n",
    "                    if q not in nodes[j].position:\n",
    "                        nodes[j].position.append(q)\n",
    "                nodes[i].adjacency = []\n",
    "\n",
    "\n",
    "    mergedNodes = []\n",
    "    # copy node list\n",
    "    for node in nodes:\n",
    "        if len(node.adjacency) != 0:\n",
    "            mergedNodes.append(node) \n",
    "\n",
    "    N = len(mergedNodes)\n",
    "    J = [[0 for col in range(N)] for row in range(N)]\n",
    "\n",
    "    for i in range(0,N-1):\n",
    "        for j in range(i+1,N):\n",
    "            flag = False\n",
    "            for r in mergedNodes[i].adjacency:\n",
    "                if r in mergedNodes[j].position:\n",
    "                    flag = True\n",
    "            if flag:\n",
    "                J[i][j] = 1\n",
    "                J[j][i] = 1\n",
    "        \n",
    "    return np.array(J)"
   ]
  },
  {
   "cell_type": "code",
   "execution_count": 252,
   "metadata": {},
   "outputs": [
    {
     "name": "stdout",
     "output_type": "stream",
     "text": [
      "[[0 1 1 0 1 0 1 0]\n",
      " [1 0 0 1 0 1 0 1]\n",
      " [1 0 0 1 0 1 0 1]\n",
      " [0 1 1 0 1 0 1 0]\n",
      " [1 0 0 1 0 1 0 1]\n",
      " [0 1 1 0 1 0 1 0]\n",
      " [1 0 0 1 0 1 0 1]\n",
      " [0 1 1 0 1 0 1 0]]\n"
     ]
    }
   ],
   "source": [
    "v1 = [-2,2] # first basis vector\n",
    "v2 = [2,2] # second basis vector\n",
    "J = coeffMatrix(v1,v2)\n",
    "print(J)"
   ]
  }
 ],
 "metadata": {
  "kernelspec": {
   "display_name": "Python 3",
   "language": "python",
   "name": "python3"
  },
  "language_info": {
   "codemirror_mode": {
    "name": "ipython",
    "version": 3
   },
   "file_extension": ".py",
   "mimetype": "text/x-python",
   "name": "python",
   "nbconvert_exporter": "python",
   "pygments_lexer": "ipython3",
   "version": "3.10.11"
  }
 },
 "nbformat": 4,
 "nbformat_minor": 2
}

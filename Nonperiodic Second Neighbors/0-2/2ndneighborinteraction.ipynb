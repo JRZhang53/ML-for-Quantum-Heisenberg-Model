{
 "cells": [
  {
   "cell_type": "code",
   "execution_count": 37,
   "metadata": {},
   "outputs": [],
   "source": [
    "import numpy as np\n",
    "import math\n",
    "import time\n",
    "import matplotlib.pyplot as plt\n",
    "import matplotlib.colors as colors\n",
    "from matplotlib.colors import TwoSlopeNorm\n",
    "from scipy import sparse\n",
    "\n",
    "import netket as nk\n",
    "import os\n",
    "os.environ[\"JAX_PLATFORM_NAME\"] = \"cpu\"\n",
    "import json\n",
    "\n",
    "PATH = os.getcwd()"
   ]
  },
  {
   "cell_type": "markdown",
   "metadata": {},
   "source": [
    "### Generate Table of All Possible States Indexed in Lexigraphical Order"
   ]
  },
  {
   "cell_type": "code",
   "execution_count": 38,
   "metadata": {},
   "outputs": [],
   "source": [
    "def generateStateTable(n,n0,N): # assumes ab > n0 > 0 and N = n choose n0\n",
    "    states = []\n",
    "    state = np.concatenate((np.ones(n-n0),-1*np.ones(n0))).astype(int)\n",
    "    for i in range(0,N):\n",
    "        states.append(np.copy(state))\n",
    "        j = 0\n",
    "        flag = True\n",
    "        flip_count = 0\n",
    "        up_count = 0\n",
    "        while (flag): \n",
    "            if (j == n-1):\n",
    "                for m in range(0,n):\n",
    "                    if (state[m] != 1 and state[m+1] == 1):\n",
    "                        flip_count += 1\n",
    "                if (flip_count == 1):\n",
    "                    break\n",
    "            if (state[j] != 1):\n",
    "                j += 1  \n",
    "            elif (state[j+1] != 1):\n",
    "                for m in range(0,j):\n",
    "                    if (state[m] != 1 and state[m+1] == 1):\n",
    "                        flip_count += 1\n",
    "                    if (state[m] == 1):\n",
    "                        up_count += 1\n",
    "                if (flip_count == 1):\n",
    "                    state[j],state[j+1] = state[j+1],state[j]\n",
    "                    for k in range(1,up_count+1):\n",
    "                        state[j-k],state[k-1] = state[k-1],state[j-k]\n",
    "                else:\n",
    "                    state[j],state[j+1] = state[j+1],state[j]\n",
    "                flag = False\n",
    "            else:\n",
    "                j += 1\n",
    "    return states"
   ]
  },
  {
   "cell_type": "markdown",
   "metadata": {},
   "source": [
    "### Generate Adjacency Matrices"
   ]
  },
  {
   "cell_type": "code",
   "execution_count": 39,
   "metadata": {},
   "outputs": [],
   "source": [
    "class Node:\n",
    "    def __init__(self, position, xadj, yadj):\n",
    "        self.position = position\n",
    "        self.xadj = xadj\n",
    "        self.yadj = yadj\n",
    "    \n",
    "    def __str__(self):\n",
    "        return f\"{self.position} {self.xadj} {self.yadj}\""
   ]
  },
  {
   "cell_type": "code",
   "execution_count": 40,
   "metadata": {},
   "outputs": [],
   "source": [
    "def squareAdjacencyList(a,b): # constructs a periodic adjacency graph with width a and height b\n",
    "    nodes = []\n",
    "    \n",
    "    for i in range(0,a):\n",
    "        for j in range(0,b):\n",
    "            xadj = [[i-1 % a,j],[i+1 % a,j]]\n",
    "            yadj = [[i,j-1 % b],[i,j+1 % b]]\n",
    "            nodes.append(Node([[i,j]],xadj,yadj))\n",
    "\n",
    "    return nodes"
   ]
  },
  {
   "cell_type": "markdown",
   "metadata": {},
   "source": [
    "### First Neighbors Adjacency Matrix"
   ]
  },
  {
   "cell_type": "code",
   "execution_count": 41,
   "metadata": {},
   "outputs": [],
   "source": [
    "def firstneighbors(a,b): \n",
    "    nodes = squareAdjacencyList(a,b)\n",
    "    N = a*b\n",
    "    J = [[0 for col in range(N)] for row in range(N)]\n",
    "\n",
    "    for i in range(0,N-1):\n",
    "        for j in range(i+1,N):\n",
    "            flag = False\n",
    "            for xptr in nodes[i].xadj:\n",
    "                if xptr in nodes[j].position:\n",
    "                    flag = True\n",
    "            for yptr in nodes[i].yadj:\n",
    "                if yptr in nodes[j].position:\n",
    "                    flag = True\n",
    "            if flag:\n",
    "                J[i][j] = 1\n",
    "                J[j][i] = 1\n",
    "        \n",
    "    return np.array(J)"
   ]
  },
  {
   "cell_type": "markdown",
   "metadata": {},
   "source": [
    "### Second Neighbors (Euclidean) Adjacency Matrix"
   ]
  },
  {
   "cell_type": "code",
   "execution_count": 42,
   "metadata": {},
   "outputs": [],
   "source": [
    "def secondneighbors(a,b):\n",
    "    nodes = squareAdjacencyList(a,b)\n",
    "    N = a*b\n",
    "    J = [[0 for col in range(N)] for row in range(N)]\n",
    "\n",
    "    for i in range(0,N-1):\n",
    "        for j in range(i+1,N):\n",
    "            flag = False\n",
    "\n",
    "            for xptr in nodes[i].xadj:\n",
    "                try:\n",
    "                    for k in range(0,N):\n",
    "                        if xptr in nodes[k].position:\n",
    "                            intermediate = k\n",
    "                    for yptr in nodes[intermediate].yadj:\n",
    "                        if yptr in nodes[j].position:\n",
    "                            flag = True\n",
    "                except UnboundLocalError:\n",
    "                    pass\n",
    "\n",
    "            if flag:\n",
    "                J[i][j] = 1\n",
    "                J[j][i] = 1\n",
    "\n",
    "    return np.array(J)"
   ]
  },
  {
   "cell_type": "markdown",
   "metadata": {},
   "source": [
    "### Model Parameters"
   ]
  },
  {
   "cell_type": "code",
   "execution_count": 43,
   "metadata": {},
   "outputs": [],
   "source": [
    "a = 4 # x-range of supercell\n",
    "b = 4 # y-range of supercell\n",
    "N1 = firstneighbors(a,b)\n",
    "N2 = secondneighbors(a,b)\n",
    "n = a*b # number of sites in lattice\n",
    "\n",
    "n0 = n // 2 # number of down spins in the string (taken as floor(n/2))\n",
    "N = int(math.factorial(n)/(math.factorial(n0)*math.factorial(n-n0))) # number of states\n",
    "\n",
    "stateTable = generateStateTable(n,n0,N)"
   ]
  },
  {
   "cell_type": "markdown",
   "metadata": {},
   "source": [
    "### Compute Hamiltonian of the System"
   ]
  },
  {
   "cell_type": "code",
   "execution_count": 44,
   "metadata": {},
   "outputs": [],
   "source": [
    "def computeHamiltonian(J1,J2):\n",
    "    # uses the fact that the Hamiltonian is real and Hermitian => symmetric\n",
    "    row = []\n",
    "    col = []\n",
    "    data = []\n",
    "\n",
    "    for i in range(0,N):\n",
    "        for j in range(i,N):\n",
    "            if (i == j):\n",
    "                for k in range(0,n-1):\n",
    "                    for l in range(k+1,n):\n",
    "                        if (N1[k][l] != 0):\n",
    "                            row.append(i)\n",
    "                            col.append(j)\n",
    "                            data.append(J1*stateTable[i][k]*stateTable[i][l])\n",
    "                        if (N2[k][l] != 0):\n",
    "                            row.append(i)\n",
    "                            col.append(j)\n",
    "                            data.append(J2*stateTable[i][k]*stateTable[i][l])\n",
    "                        \n",
    "            else:\n",
    "                tempState = np.multiply(stateTable[i],stateTable[j])\n",
    "                if (np.count_nonzero(tempState == -1) == 2):\n",
    "                    indices = np.where(tempState == -1)\n",
    "                    e,f = indices[0][0],indices[0][1]\n",
    "                    if (N1[e][f] != 0):\n",
    "                        row.append(i)\n",
    "                        col.append(j)\n",
    "                        data.append(2*J1)\n",
    "                        row.append(j)\n",
    "                        col.append(i)\n",
    "                        data.append(2*J1)\n",
    "                    if (N2[e][f] != 0):\n",
    "                        row.append(i)\n",
    "                        col.append(j)\n",
    "                        data.append(2*J2)\n",
    "                        row.append(j)\n",
    "                        col.append(i)\n",
    "                        data.append(2*J2)\n",
    "    \n",
    "    H = sparse.coo_array((data, (row, col)), shape=(N,N), dtype=np.float32)\n",
    "    return H"
   ]
  },
  {
   "cell_type": "markdown",
   "metadata": {},
   "source": [
    "### Load Hamiltonian"
   ]
  },
  {
   "cell_type": "code",
   "execution_count": 45,
   "metadata": {},
   "outputs": [],
   "source": [
    "# H = sparse.load_npz(PATH + '/n20hamiltonian.npz')"
   ]
  },
  {
   "cell_type": "markdown",
   "metadata": {},
   "source": [
    "### Iterate over Multiple J1/J2"
   ]
  },
  {
   "cell_type": "code",
   "execution_count": 46,
   "metadata": {},
   "outputs": [],
   "source": [
    "def firstSpinCorrelation(states,n):\n",
    "    spin_corr = 0\n",
    "    for i in range(0,len(states)):\n",
    "        sCorr = 0\n",
    "        for k in range(0,n-1):\n",
    "            for l in range(k+1,n):\n",
    "                if (N1[k][l] != 0):\n",
    "                    sCorr += stateTable[i][k]*stateTable[i][l]\n",
    "        spin_corr += (states[i][0]**2)*sCorr\n",
    "\n",
    "    numNeighbors = 0\n",
    "    for i in range(0,len(N1)):\n",
    "        for j in range(0,len(N1[0])):\n",
    "            numNeighbors += N1[i][j]\n",
    "    spin_corr /= (numNeighbors/2)\n",
    "    return spin_corr\n",
    "\n",
    "def process(J1,J2):\n",
    "    H = computeHamiltonian(J1,J2)\n",
    "    # H = sparse.load_npz(PATH + '/J1='+str(round(J1,3))+'.J2='+str(round(J2,3))+'hamiltonian.npz')\n",
    "    # print(H.toarray())\n",
    "    \n",
    "    sparse.save_npz(PATH + '/J1='+str(round(J1,3))+'.J2='+str(round(J2,3))+'hamiltonian.npz', H, compressed=True)\n",
    "\n",
    "    numEnergies = 1\n",
    "    energies, states = sparse.linalg.eigs(H.asfptype(), k=numEnergies, which='SR')\n",
    "    energies = np.real(energies)\n",
    "    states = np.real(states)\n",
    "\n",
    "    firstSpinCorr = firstSpinCorrelation(states,n)\n",
    "\n",
    "    return energies[0]/n,firstSpinCorr"
   ]
  },
  {
   "cell_type": "code",
   "execution_count": 47,
   "metadata": {},
   "outputs": [
    {
     "name": "stdout",
     "output_type": "stream",
     "text": [
      "[-2.005661964416504, -2.0174920558929443, -2.0293898582458496, -2.0413737297058105, -2.0534603595733643, -2.065694570541382, -2.078139066696167, -2.0909268856048584, -2.104274034500122, -2.1184470653533936, -2.133594512939453, -2.1495697498321533, -2.1660983562469482, -2.182964324951172, -2.2000420093536377, -2.2172601222991943, -2.2345781326293945, -2.2519705295562744, -2.2694203853607178, -2.286921739578247, -2.3044652938842773, -2.3220415115356445, -2.339647054672241, -2.357278823852539, -2.374952554702759, -2.3926353454589844, -2.4103448390960693, -2.428077459335327, -2.4458227157592773, -2.463594675064087, -2.4813787937164307, -2.4991862773895264, -2.517003297805786, -2.5348432064056396, -2.552691698074341, -2.570554733276367, -2.588430404663086, -2.6063201427459717, -2.624228000640869, -2.6421408653259277, -2.6600682735443115, -2.678008556365967, -2.695962905883789, -2.7139248847961426, -2.73189115524292, -2.749870777130127, -2.767866373062134, -2.785867929458618, -2.803873300552368, -2.8219001293182373, -2.8399155139923096, -2.857961654663086, -2.876004219055176, -2.8940532207489014, -2.912109613418579, -2.930182933807373, -2.948256492614746, -2.966339349746704, -2.9844233989715576, -3.0025205612182617, -3.0206196308135986, -3.0387301445007324, -3.0568442344665527, -3.0749640464782715, -3.0930962562561035, -3.1112289428710938, -3.1293632984161377, -3.147507429122925, -3.165663242340088, -3.18381404876709, -3.2019734382629395, -3.2201387882232666, -3.2383060455322266, -3.2564857006073, -3.2746663093566895, -3.29284930229187, -3.3110363483428955, -3.3292300701141357, -3.3474302291870117, -3.36563777923584, -3.383845329284668, -3.4020490646362305, -3.42026686668396, -3.438483953475952, -3.456709861755371, -3.47493577003479, -3.4931745529174805, -3.511399745941162, -3.529639720916748, -3.5478813648223877, -3.5661306381225586, -3.5843722820281982, -3.6026268005371094, -3.620889663696289, -3.6391384601593018, -3.6574056148529053, -3.6756601333618164, -3.693925380706787, -3.7122106552124023, -3.730477809906006]\n",
      "[-0.1835413063447394, -0.18207557318425358, -0.18037510802349374, -0.17827729319391752, -0.17549453830635717, -0.1714860656607833, -0.16525396466026337, -0.1550040262528317, -0.13841454671895662, -0.11560842802997347, -0.09267087084445104, -0.07575060120776642, -0.06510063408204839, -0.05851834806762832, -0.05424577647257514, -0.05129046832287881, -0.04911207554139436, -0.04741707195630023, -0.04603532507040565, -0.044870446034235005, -0.0438585344815468, -0.04296002181090606, -0.042148853206038776, -0.041404843990582925, -0.040716143171744865, -0.040072249706934765, -0.03946628195357476, -0.03889301221920958, -0.03834758070503543, -0.037826804679545765, -0.037328225981341695, -0.03684894073212234, -0.03638785354903826, -0.03594285261686581, -0.03551289976388955, -0.03509664148779366, -0.03469339757270642, -0.03430208288321469, -0.033921904030185364, -0.033552354959806095, -0.03319254769123805, -0.03284231793301116, -0.03250091776169174, -0.032168011417191375, -0.031843075055774335, -0.03152589118009502, -0.03121613338200567, -0.030913298592655684, -0.03061717000670139, -0.030327543219988803, -0.03004407448500351, -0.029766558713411204, -0.02949489254102232, -0.029228618922546936, -0.028967784145446013, -0.028712050842533587, -0.02846134195794293, -0.02821530050501352, -0.02797404551638978, -0.0277372383612244, -0.02750482127824871, -0.027276591336674053, -0.027052511949079202, -0.02683237129249724, -0.02661613001039607, -0.026403537656246992, -0.02619461439124378, -0.02598927572897153, -0.025787343573124993, -0.025588746675097956, -0.0253934472859724, -0.02520120547029948, -0.025012153582138374, -0.024826068100566687, -0.02464292871749416, -0.02446262158689959, -0.02428512427728631, -0.02411032432836838, -0.023938143805732295, -0.02376858426961823, -0.023601524971324655, -0.023436957455821434, -0.023274778255253748, -0.02311489012985185, -0.0229573551056073, -0.022802063973391407, -0.022648950763519124, -0.02249798494557922, -0.022349125082942848, -0.02220228594849888, -0.022057469475132638, -0.02191460931828448, -0.021773660594145927, -0.021634640342980002, -0.02149739131011641, -0.021361994643888157, -0.021228329933243955, -0.02109641774422778, -0.02096623044374062, -0.02083765369814568]\n"
     ]
    }
   ],
   "source": [
    "stepint = 0.01 # interval size\n",
    "\n",
    "J2s = np.arange(1, 2, stepint)\n",
    "grdEs = []\n",
    "sCorrs = []\n",
    "\n",
    "for i in range(0,len(J2s)):\n",
    "    grdE,sCorr = process(1,J2s[i])\n",
    "    grdEs.append(grdE)\n",
    "    sCorrs.append(sCorr)\n",
    "\n",
    "print(grdEs)\n",
    "print(sCorrs)"
   ]
  },
  {
   "cell_type": "markdown",
   "metadata": {},
   "source": [
    "### Visualize Data"
   ]
  },
  {
   "cell_type": "code",
   "execution_count": 48,
   "metadata": {},
   "outputs": [
    {
     "data": {
      "image/png": "[encoded data removed]",
      "text/plain": [
       "<Figure size 640x480 with 2 Axes>"
      ]
     },
     "metadata": {},
     "output_type": "display_data"
    }
   ],
   "source": [
    "fig, ax = plt.subplots(1, 2)\n",
    "\n",
    "ax[0].plot(J2s,grdEs)\n",
    "ax[0].set_title(\"Ground State Energies vs J2/J1\")\n",
    "ax[0].set_xlabel(\"J2/J1\")\n",
    "ax[0].set_ylabel(\"Ground State Energy\")\n",
    "\n",
    "ax[1].plot(J2s,sCorrs)\n",
    "ax[1].set_title(\"First Neighbor Spin Correlation vs J2/J1\")\n",
    "ax[1].set_xlabel(\"J2/J1\")\n",
    "ax[1].set_ylabel(\"Spin Correlation\")\n",
    "\n",
    "plt.tight_layout()\n",
    "plt.show()\n"
   ]
  }
 ],
 "metadata": {
  "kernelspec": {
   "display_name": "Python 3",
   "language": "python",
   "name": "python3"
  },
  "language_info": {
   "codemirror_mode": {
    "name": "ipython",
    "version": 3
   },
   "file_extension": ".py",
   "mimetype": "text/x-python",
   "name": "python",
   "nbconvert_exporter": "python",
   "pygments_lexer": "ipython3",
   "version": "3.10.11"
  }
 },
 "nbformat": 4,
 "nbformat_minor": 2
}
